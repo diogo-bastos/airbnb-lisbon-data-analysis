{
 "cells": [
  {
   "cell_type": "markdown",
   "metadata": {},
   "source": [
    "# Airbnb Lisbon Data Analysis"
   ]
  },
  {
   "cell_type": "markdown",
   "metadata": {},
   "source": [
    "This notebook will analyse public data from airbnb, obtained from http://insideairbnb.com/get-the-data.html. We will look at data from the capital city of Portugal which is Lisbon to try to answer the following questions:\n",
    "\n",
    "###### Which neighbourhoods have the most listings, are more expensive and have the most positive reviews?\n",
    "\n",
    "###### How much of an impact does being a super host make on review score, price and demand?\n",
    "\n",
    "###### Can we offer a price suggestion for a new listing, based on its features and on the features of the most successful listings?\n",
    "\n"
   ]
  },
  {
   "cell_type": "markdown",
   "metadata": {},
   "source": [
    "## Table of Contents:\n",
    "* [Data Sneak Peek](#first-bullet)\n",
    "* [Neighbourhoods Analysis](#second-bullet)\n",
    "* [Price Prediction](#third-bullet)\n",
    "    * [NaN values analysis](#fourth-bullet)"
   ]
  },
  {
   "cell_type": "markdown",
   "metadata": {},
   "source": [
    "### Data Sneak Peek <a class=\"anchor\" id=\"first-bullet\"></a>"
   ]
  },
  {
   "cell_type": "code",
   "execution_count": 1,
   "metadata": {},
   "outputs": [],
   "source": [
    "# library imports\n",
    "import numpy as np\n",
    "import pandas as pd\n",
    "import matplotlib.pyplot as plt\n",
    "\n",
    "# magic word for producing visualizations in notebook\n",
    "%matplotlib inline"
   ]
  },
  {
   "cell_type": "code",
   "execution_count": 2,
   "metadata": {},
   "outputs": [
    {
     "data": {
      "text/html": [
       "<div>\n",
       "<style scoped>\n",
       "    .dataframe tbody tr th:only-of-type {\n",
       "        vertical-align: middle;\n",
       "    }\n",
       "\n",
       "    .dataframe tbody tr th {\n",
       "        vertical-align: top;\n",
       "    }\n",
       "\n",
       "    .dataframe thead th {\n",
       "        text-align: right;\n",
       "    }\n",
       "</style>\n",
       "<table border=\"1\" class=\"dataframe\">\n",
       "  <thead>\n",
       "    <tr style=\"text-align: right;\">\n",
       "      <th></th>\n",
       "      <th>id</th>\n",
       "      <th>listing_url</th>\n",
       "      <th>scrape_id</th>\n",
       "      <th>last_scraped</th>\n",
       "      <th>name</th>\n",
       "      <th>summary</th>\n",
       "      <th>space</th>\n",
       "      <th>description</th>\n",
       "      <th>experiences_offered</th>\n",
       "      <th>neighborhood_overview</th>\n",
       "      <th>...</th>\n",
       "      <th>requires_license</th>\n",
       "      <th>license</th>\n",
       "      <th>jurisdiction_names</th>\n",
       "      <th>instant_bookable</th>\n",
       "      <th>is_business_travel_ready</th>\n",
       "      <th>cancellation_policy</th>\n",
       "      <th>require_guest_profile_picture</th>\n",
       "      <th>require_guest_phone_verification</th>\n",
       "      <th>calculated_host_listings_count</th>\n",
       "      <th>reviews_per_month</th>\n",
       "    </tr>\n",
       "  </thead>\n",
       "  <tbody>\n",
       "    <tr>\n",
       "      <th>0</th>\n",
       "      <td>24056</td>\n",
       "      <td>https://www.airbnb.com/rooms/24056</td>\n",
       "      <td>20181017033106</td>\n",
       "      <td>2018-10-17</td>\n",
       "      <td>Linda-a-Velha</td>\n",
       "      <td>NaN</td>\n",
       "      <td>A comfortable apartment with pool during the s...</td>\n",
       "      <td>A comfortable apartment with pool during the s...</td>\n",
       "      <td>none</td>\n",
       "      <td>NaN</td>\n",
       "      <td>...</td>\n",
       "      <td>t</td>\n",
       "      <td>NaN</td>\n",
       "      <td>NaN</td>\n",
       "      <td>f</td>\n",
       "      <td>f</td>\n",
       "      <td>strict_14_with_grace_period</td>\n",
       "      <td>f</td>\n",
       "      <td>f</td>\n",
       "      <td>1</td>\n",
       "      <td>NaN</td>\n",
       "    </tr>\n",
       "    <tr>\n",
       "      <th>1</th>\n",
       "      <td>25659</td>\n",
       "      <td>https://www.airbnb.com/rooms/25659</td>\n",
       "      <td>20181017033106</td>\n",
       "      <td>2018-10-17</td>\n",
       "      <td>Sunny,  Alfama  Sleeps 3 - Coeur d'Alfama</td>\n",
       "      <td>Heart of Alfama! Sunny Charming 1 Bedroom apar...</td>\n",
       "      <td>Charming sunny apartment in the heart of Alfam...</td>\n",
       "      <td>Heart of Alfama! Sunny Charming 1 Bedroom apar...</td>\n",
       "      <td>none</td>\n",
       "      <td>Alfama is the oldest and most picturesque quar...</td>\n",
       "      <td>...</td>\n",
       "      <td>t</td>\n",
       "      <td>56539/AL.</td>\n",
       "      <td>{Lisbon,\" Portugal\"}</td>\n",
       "      <td>t</td>\n",
       "      <td>f</td>\n",
       "      <td>moderate</td>\n",
       "      <td>f</td>\n",
       "      <td>f</td>\n",
       "      <td>1</td>\n",
       "      <td>1.7</td>\n",
       "    </tr>\n",
       "  </tbody>\n",
       "</table>\n",
       "<p>2 rows × 96 columns</p>\n",
       "</div>"
      ],
      "text/plain": [
       "      id                         listing_url       scrape_id last_scraped  \\\n",
       "0  24056  https://www.airbnb.com/rooms/24056  20181017033106   2018-10-17   \n",
       "1  25659  https://www.airbnb.com/rooms/25659  20181017033106   2018-10-17   \n",
       "\n",
       "                                        name  \\\n",
       "0                              Linda-a-Velha   \n",
       "1  Sunny,  Alfama  Sleeps 3 - Coeur d'Alfama   \n",
       "\n",
       "                                             summary  \\\n",
       "0                                                NaN   \n",
       "1  Heart of Alfama! Sunny Charming 1 Bedroom apar...   \n",
       "\n",
       "                                               space  \\\n",
       "0  A comfortable apartment with pool during the s...   \n",
       "1  Charming sunny apartment in the heart of Alfam...   \n",
       "\n",
       "                                         description experiences_offered  \\\n",
       "0  A comfortable apartment with pool during the s...                none   \n",
       "1  Heart of Alfama! Sunny Charming 1 Bedroom apar...                none   \n",
       "\n",
       "                               neighborhood_overview        ...          \\\n",
       "0                                                NaN        ...           \n",
       "1  Alfama is the oldest and most picturesque quar...        ...           \n",
       "\n",
       "  requires_license    license    jurisdiction_names instant_bookable  \\\n",
       "0                t        NaN                   NaN                f   \n",
       "1                t  56539/AL.  {Lisbon,\" Portugal\"}                t   \n",
       "\n",
       "  is_business_travel_ready          cancellation_policy  \\\n",
       "0                        f  strict_14_with_grace_period   \n",
       "1                        f                     moderate   \n",
       "\n",
       "   require_guest_profile_picture require_guest_phone_verification  \\\n",
       "0                              f                                f   \n",
       "1                              f                                f   \n",
       "\n",
       "   calculated_host_listings_count  reviews_per_month  \n",
       "0                               1                NaN  \n",
       "1                               1                1.7  \n",
       "\n",
       "[2 rows x 96 columns]"
      ]
     },
     "execution_count": 2,
     "metadata": {},
     "output_type": "execute_result"
    }
   ],
   "source": [
    "# Get the raw data from the csv file and take a peak\n",
    "air_bnb_listings_raw = pd.read_csv('listings.csv')\n",
    "air_bnb_listings_raw.head(2)"
   ]
  },
  {
   "cell_type": "code",
   "execution_count": 3,
   "metadata": {},
   "outputs": [
    {
     "name": "stdout",
     "output_type": "stream",
     "text": [
      "This dataset has 22123 rows and 96 columns\n"
     ]
    },
    {
     "data": {
      "text/html": [
       "<div>\n",
       "<style scoped>\n",
       "    .dataframe tbody tr th:only-of-type {\n",
       "        vertical-align: middle;\n",
       "    }\n",
       "\n",
       "    .dataframe tbody tr th {\n",
       "        vertical-align: top;\n",
       "    }\n",
       "\n",
       "    .dataframe thead th {\n",
       "        text-align: right;\n",
       "    }\n",
       "</style>\n",
       "<table border=\"1\" class=\"dataframe\">\n",
       "  <thead>\n",
       "    <tr style=\"text-align: right;\">\n",
       "      <th></th>\n",
       "      <th>id</th>\n",
       "      <th>scrape_id</th>\n",
       "      <th>thumbnail_url</th>\n",
       "      <th>medium_url</th>\n",
       "      <th>xl_picture_url</th>\n",
       "      <th>host_id</th>\n",
       "      <th>host_acceptance_rate</th>\n",
       "      <th>host_listings_count</th>\n",
       "      <th>host_total_listings_count</th>\n",
       "      <th>latitude</th>\n",
       "      <th>...</th>\n",
       "      <th>number_of_reviews</th>\n",
       "      <th>review_scores_rating</th>\n",
       "      <th>review_scores_accuracy</th>\n",
       "      <th>review_scores_cleanliness</th>\n",
       "      <th>review_scores_checkin</th>\n",
       "      <th>review_scores_communication</th>\n",
       "      <th>review_scores_location</th>\n",
       "      <th>review_scores_value</th>\n",
       "      <th>calculated_host_listings_count</th>\n",
       "      <th>reviews_per_month</th>\n",
       "    </tr>\n",
       "  </thead>\n",
       "  <tbody>\n",
       "    <tr>\n",
       "      <th>count</th>\n",
       "      <td>2.212300e+04</td>\n",
       "      <td>2.212300e+04</td>\n",
       "      <td>0.0</td>\n",
       "      <td>0.0</td>\n",
       "      <td>0.0</td>\n",
       "      <td>2.212300e+04</td>\n",
       "      <td>0.0</td>\n",
       "      <td>22121.000000</td>\n",
       "      <td>22121.000000</td>\n",
       "      <td>22123.000000</td>\n",
       "      <td>...</td>\n",
       "      <td>22123.000000</td>\n",
       "      <td>18605.000000</td>\n",
       "      <td>18591.000000</td>\n",
       "      <td>18599.000000</td>\n",
       "      <td>18584.000000</td>\n",
       "      <td>18592.000000</td>\n",
       "      <td>18585.000000</td>\n",
       "      <td>18582.000000</td>\n",
       "      <td>22123.000000</td>\n",
       "      <td>18789.000000</td>\n",
       "    </tr>\n",
       "    <tr>\n",
       "      <th>mean</th>\n",
       "      <td>1.631487e+07</td>\n",
       "      <td>2.018102e+13</td>\n",
       "      <td>NaN</td>\n",
       "      <td>NaN</td>\n",
       "      <td>NaN</td>\n",
       "      <td>6.721255e+07</td>\n",
       "      <td>NaN</td>\n",
       "      <td>15.411916</td>\n",
       "      <td>15.411916</td>\n",
       "      <td>38.755540</td>\n",
       "      <td>...</td>\n",
       "      <td>33.259865</td>\n",
       "      <td>92.450954</td>\n",
       "      <td>9.527083</td>\n",
       "      <td>9.454756</td>\n",
       "      <td>9.655295</td>\n",
       "      <td>9.678410</td>\n",
       "      <td>9.393489</td>\n",
       "      <td>9.216769</td>\n",
       "      <td>12.259775</td>\n",
       "      <td>1.874947</td>\n",
       "    </tr>\n",
       "    <tr>\n",
       "      <th>std</th>\n",
       "      <td>8.490358e+06</td>\n",
       "      <td>2.425836e+00</td>\n",
       "      <td>NaN</td>\n",
       "      <td>NaN</td>\n",
       "      <td>NaN</td>\n",
       "      <td>6.551403e+07</td>\n",
       "      <td>NaN</td>\n",
       "      <td>50.192890</td>\n",
       "      <td>50.192890</td>\n",
       "      <td>0.103668</td>\n",
       "      <td>...</td>\n",
       "      <td>51.666962</td>\n",
       "      <td>8.275162</td>\n",
       "      <td>0.840736</td>\n",
       "      <td>0.867613</td>\n",
       "      <td>0.769299</td>\n",
       "      <td>0.742025</td>\n",
       "      <td>0.790379</td>\n",
       "      <td>0.880603</td>\n",
       "      <td>34.383392</td>\n",
       "      <td>1.695623</td>\n",
       "    </tr>\n",
       "    <tr>\n",
       "      <th>min</th>\n",
       "      <td>2.405600e+04</td>\n",
       "      <td>2.018102e+13</td>\n",
       "      <td>NaN</td>\n",
       "      <td>NaN</td>\n",
       "      <td>NaN</td>\n",
       "      <td>1.709600e+04</td>\n",
       "      <td>NaN</td>\n",
       "      <td>0.000000</td>\n",
       "      <td>0.000000</td>\n",
       "      <td>38.675089</td>\n",
       "      <td>...</td>\n",
       "      <td>0.000000</td>\n",
       "      <td>20.000000</td>\n",
       "      <td>2.000000</td>\n",
       "      <td>2.000000</td>\n",
       "      <td>2.000000</td>\n",
       "      <td>2.000000</td>\n",
       "      <td>2.000000</td>\n",
       "      <td>2.000000</td>\n",
       "      <td>1.000000</td>\n",
       "      <td>0.010000</td>\n",
       "    </tr>\n",
       "    <tr>\n",
       "      <th>25%</th>\n",
       "      <td>9.251693e+06</td>\n",
       "      <td>2.018102e+13</td>\n",
       "      <td>NaN</td>\n",
       "      <td>NaN</td>\n",
       "      <td>NaN</td>\n",
       "      <td>1.192645e+07</td>\n",
       "      <td>NaN</td>\n",
       "      <td>1.000000</td>\n",
       "      <td>1.000000</td>\n",
       "      <td>38.711027</td>\n",
       "      <td>...</td>\n",
       "      <td>2.000000</td>\n",
       "      <td>90.000000</td>\n",
       "      <td>9.000000</td>\n",
       "      <td>9.000000</td>\n",
       "      <td>9.000000</td>\n",
       "      <td>10.000000</td>\n",
       "      <td>9.000000</td>\n",
       "      <td>9.000000</td>\n",
       "      <td>1.000000</td>\n",
       "      <td>0.520000</td>\n",
       "    </tr>\n",
       "    <tr>\n",
       "      <th>50%</th>\n",
       "      <td>1.795770e+07</td>\n",
       "      <td>2.018102e+13</td>\n",
       "      <td>NaN</td>\n",
       "      <td>NaN</td>\n",
       "      <td>NaN</td>\n",
       "      <td>4.070291e+07</td>\n",
       "      <td>NaN</td>\n",
       "      <td>3.000000</td>\n",
       "      <td>3.000000</td>\n",
       "      <td>38.717512</td>\n",
       "      <td>...</td>\n",
       "      <td>11.000000</td>\n",
       "      <td>94.000000</td>\n",
       "      <td>10.000000</td>\n",
       "      <td>10.000000</td>\n",
       "      <td>10.000000</td>\n",
       "      <td>10.000000</td>\n",
       "      <td>10.000000</td>\n",
       "      <td>9.000000</td>\n",
       "      <td>3.000000</td>\n",
       "      <td>1.370000</td>\n",
       "    </tr>\n",
       "    <tr>\n",
       "      <th>75%</th>\n",
       "      <td>2.360596e+07</td>\n",
       "      <td>2.018102e+13</td>\n",
       "      <td>NaN</td>\n",
       "      <td>NaN</td>\n",
       "      <td>NaN</td>\n",
       "      <td>1.167129e+08</td>\n",
       "      <td>NaN</td>\n",
       "      <td>10.000000</td>\n",
       "      <td>10.000000</td>\n",
       "      <td>38.739007</td>\n",
       "      <td>...</td>\n",
       "      <td>41.000000</td>\n",
       "      <td>98.000000</td>\n",
       "      <td>10.000000</td>\n",
       "      <td>10.000000</td>\n",
       "      <td>10.000000</td>\n",
       "      <td>10.000000</td>\n",
       "      <td>10.000000</td>\n",
       "      <td>10.000000</td>\n",
       "      <td>8.000000</td>\n",
       "      <td>2.850000</td>\n",
       "    </tr>\n",
       "    <tr>\n",
       "      <th>max</th>\n",
       "      <td>2.933783e+07</td>\n",
       "      <td>2.018102e+13</td>\n",
       "      <td>NaN</td>\n",
       "      <td>NaN</td>\n",
       "      <td>NaN</td>\n",
       "      <td>2.210216e+08</td>\n",
       "      <td>NaN</td>\n",
       "      <td>422.000000</td>\n",
       "      <td>422.000000</td>\n",
       "      <td>39.301960</td>\n",
       "      <td>...</td>\n",
       "      <td>663.000000</td>\n",
       "      <td>100.000000</td>\n",
       "      <td>10.000000</td>\n",
       "      <td>10.000000</td>\n",
       "      <td>10.000000</td>\n",
       "      <td>10.000000</td>\n",
       "      <td>10.000000</td>\n",
       "      <td>10.000000</td>\n",
       "      <td>274.000000</td>\n",
       "      <td>19.860000</td>\n",
       "    </tr>\n",
       "  </tbody>\n",
       "</table>\n",
       "<p>8 rows × 33 columns</p>\n",
       "</div>"
      ],
      "text/plain": [
       "                 id     scrape_id  thumbnail_url  medium_url  xl_picture_url  \\\n",
       "count  2.212300e+04  2.212300e+04            0.0         0.0             0.0   \n",
       "mean   1.631487e+07  2.018102e+13            NaN         NaN             NaN   \n",
       "std    8.490358e+06  2.425836e+00            NaN         NaN             NaN   \n",
       "min    2.405600e+04  2.018102e+13            NaN         NaN             NaN   \n",
       "25%    9.251693e+06  2.018102e+13            NaN         NaN             NaN   \n",
       "50%    1.795770e+07  2.018102e+13            NaN         NaN             NaN   \n",
       "75%    2.360596e+07  2.018102e+13            NaN         NaN             NaN   \n",
       "max    2.933783e+07  2.018102e+13            NaN         NaN             NaN   \n",
       "\n",
       "            host_id  host_acceptance_rate  host_listings_count  \\\n",
       "count  2.212300e+04                   0.0         22121.000000   \n",
       "mean   6.721255e+07                   NaN            15.411916   \n",
       "std    6.551403e+07                   NaN            50.192890   \n",
       "min    1.709600e+04                   NaN             0.000000   \n",
       "25%    1.192645e+07                   NaN             1.000000   \n",
       "50%    4.070291e+07                   NaN             3.000000   \n",
       "75%    1.167129e+08                   NaN            10.000000   \n",
       "max    2.210216e+08                   NaN           422.000000   \n",
       "\n",
       "       host_total_listings_count      latitude        ...          \\\n",
       "count               22121.000000  22123.000000        ...           \n",
       "mean                   15.411916     38.755540        ...           \n",
       "std                    50.192890      0.103668        ...           \n",
       "min                     0.000000     38.675089        ...           \n",
       "25%                     1.000000     38.711027        ...           \n",
       "50%                     3.000000     38.717512        ...           \n",
       "75%                    10.000000     38.739007        ...           \n",
       "max                   422.000000     39.301960        ...           \n",
       "\n",
       "       number_of_reviews  review_scores_rating  review_scores_accuracy  \\\n",
       "count       22123.000000          18605.000000            18591.000000   \n",
       "mean           33.259865             92.450954                9.527083   \n",
       "std            51.666962              8.275162                0.840736   \n",
       "min             0.000000             20.000000                2.000000   \n",
       "25%             2.000000             90.000000                9.000000   \n",
       "50%            11.000000             94.000000               10.000000   \n",
       "75%            41.000000             98.000000               10.000000   \n",
       "max           663.000000            100.000000               10.000000   \n",
       "\n",
       "       review_scores_cleanliness  review_scores_checkin  \\\n",
       "count               18599.000000           18584.000000   \n",
       "mean                    9.454756               9.655295   \n",
       "std                     0.867613               0.769299   \n",
       "min                     2.000000               2.000000   \n",
       "25%                     9.000000               9.000000   \n",
       "50%                    10.000000              10.000000   \n",
       "75%                    10.000000              10.000000   \n",
       "max                    10.000000              10.000000   \n",
       "\n",
       "       review_scores_communication  review_scores_location  \\\n",
       "count                 18592.000000            18585.000000   \n",
       "mean                      9.678410                9.393489   \n",
       "std                       0.742025                0.790379   \n",
       "min                       2.000000                2.000000   \n",
       "25%                      10.000000                9.000000   \n",
       "50%                      10.000000               10.000000   \n",
       "75%                      10.000000               10.000000   \n",
       "max                      10.000000               10.000000   \n",
       "\n",
       "       review_scores_value  calculated_host_listings_count  reviews_per_month  \n",
       "count         18582.000000                    22123.000000       18789.000000  \n",
       "mean              9.216769                       12.259775           1.874947  \n",
       "std               0.880603                       34.383392           1.695623  \n",
       "min               2.000000                        1.000000           0.010000  \n",
       "25%               9.000000                        1.000000           0.520000  \n",
       "50%               9.000000                        3.000000           1.370000  \n",
       "75%              10.000000                        8.000000           2.850000  \n",
       "max              10.000000                      274.000000          19.860000  \n",
       "\n",
       "[8 rows x 33 columns]"
      ]
     },
     "execution_count": 3,
     "metadata": {},
     "output_type": "execute_result"
    }
   ],
   "source": [
    "# Learn the shape of the dataset\n",
    "print(f'This dataset has {air_bnb_listings_raw.shape[0]} rows and {air_bnb_listings_raw.shape[1]} columns')\n",
    "\n",
    "# Get some basic information about each of the columns\n",
    "air_bnb_listings_raw.describe()"
   ]
  },
  {
   "cell_type": "code",
   "execution_count": 40,
   "metadata": {},
   "outputs": [
    {
     "data": {
      "text/plain": [
       "neighbourhood\n",
       "Alfama                  1376\n",
       "Baixa                    941\n",
       "São Jorge de Arroios     815\n",
       "Encarnação               770\n",
       "Anjos                    725\n",
       "Santa Catarina           683\n",
       "São Paulo                679\n",
       "Mercês                   588\n",
       "Coração de Jesus         512\n",
       "Pena                     475\n",
       "Name: id, dtype: int64"
      ]
     },
     "execution_count": 40,
     "metadata": {},
     "output_type": "execute_result"
    }
   ],
   "source": [
    "nr_listings_per_neighbourhood = air_bnb_listings_raw.groupby(['neighbourhood'])['id'].count()\n",
    "nr_listings_per_neighbourhood.sort_values(ascending=False).head(10)"
   ]
  },
  {
   "cell_type": "code",
   "execution_count": 61,
   "metadata": {},
   "outputs": [
    {
     "data": {
      "image/png": "[encoded data removed]",
      "text/plain": [
       "<Figure size 432x288 with 1 Axes>"
      ]
     },
     "metadata": {},
     "output_type": "display_data"
    }
   ],
   "source": [
    "mask0 = nr_listings_per_neighbourhood > 400\n",
    "nr_listings_per_neighbourhood_sorted = nr_listings_per_neighbourhood.sort_values()\n",
    "plt.barh(nr_listings_per_neighbourhood_sorted[mask0].index, nr_listings_per_neighbourhood_sorted[mask0], color = 'blue')\n",
    "plt.xlabel('Number of listings')\n",
    "plt.ylabel('Neighbourhood')\n",
    "plt.title('Number Of Listings Per Neighbourhood')\n",
    "plt.show()\n",
    "plt.close()"
   ]
  },
  {
   "cell_type": "code",
   "execution_count": 47,
   "metadata": {},
   "outputs": [
    {
     "data": {
      "text/plain": [
       "neighbourhood\n",
       "Charneca                   98.250000\n",
       "São João de Deus           94.170732\n",
       "Santa Maria dos Olivais    94.144444\n",
       "Ajuda                      93.730496\n",
       "Estrella/Lapa              93.572000\n",
       "Graça                      93.546988\n",
       "Belém                      93.526690\n",
       "São Mamede                 93.512635\n",
       "São Domingos de Benfica    93.430108\n",
       "Parque das Nações          93.308642\n",
       "Name: review_scores_rating, dtype: float64"
      ]
     },
     "execution_count": 47,
     "metadata": {},
     "output_type": "execute_result"
    }
   ],
   "source": [
    "review_score_per_neighbourhood = air_bnb_listings_raw.groupby(['neighbourhood'])['review_scores_rating'].mean()         \n",
    "review_score_per_neighbourhood.sort_values(ascending=False).head(10)"
   ]
  },
  {
   "cell_type": "code",
   "execution_count": 62,
   "metadata": {},
   "outputs": [
    {
     "data": {
      "image/png": "[encoded data removed]",
      "text/plain": [
       "<Figure size 432x288 with 1 Axes>"
      ]
     },
     "metadata": {},
     "output_type": "display_data"
    }
   ],
   "source": [
    "mask0 = review_score_per_neighbourhood > 93\n",
    "review_score_per_neighbourhood_sorted = review_score_per_neighbourhood.sort_values()\n",
    "plt.barh(review_score_per_neighbourhood_sorted[mask0].index,review_score_per_neighbourhood_sorted[mask0], color = 'blue')\n",
    "plt.xlabel('Review Score')\n",
    "plt.ylabel('Neighbourhood')\n",
    "plt.title('Review Score Per neighbourhood')\n",
    "plt.show()\n",
    "plt.close()"
   ]
  },
  {
   "cell_type": "code",
   "execution_count": 29,
   "metadata": {},
   "outputs": [],
   "source": [
    "def parse_into_float(price_string):\n",
    "    return float(price_string[1:].replace(',', ''))\n",
    "\n",
    "air_bnb_listings_raw['float_price'] = air_bnb_listings_raw['price'].apply(parse_into_float)"
   ]
  },
  {
   "cell_type": "code",
   "execution_count": 63,
   "metadata": {},
   "outputs": [
    {
     "data": {
      "text/plain": [
       "neighbourhood\n",
       "Bairro Alto                300.000000\n",
       "Benfica                    210.588785\n",
       "São Domingos de Benfica    197.346667\n",
       "Carnide                    149.792683\n",
       "Baixa                      114.463337\n",
       "Parque das Nações          112.525806\n",
       "Encarnação                 108.211688\n",
       "Santa Isabel               107.295000\n",
       "São Francisco Xavier       103.100000\n",
       "Mercês                      98.015306\n",
       "Name: float_price, dtype: float64"
      ]
     },
     "execution_count": 63,
     "metadata": {},
     "output_type": "execute_result"
    }
   ],
   "source": [
    "mean_prices_per_neibourhood = air_bnb_listings_raw.groupby(['neighbourhood'])['float_price'].mean()\n",
    "mean_prices_per_neibourhood.sort_values(ascending=False).head(10)"
   ]
  },
  {
   "cell_type": "code",
   "execution_count": 66,
   "metadata": {},
   "outputs": [
    {
     "data": {
      "image/png": "[encoded data removed]",
      "text/plain": [
       "<Figure size 432x288 with 1 Axes>"
      ]
     },
     "metadata": {},
     "output_type": "display_data"
    }
   ],
   "source": [
    "mean_prices_per_neibourhood_sorted = mean_prices_per_neibourhood.sort_values()\n",
    "mask0 = mean_prices_per_neibourhood_sorted > 90\n",
    "plt.barh(mean_prices_per_neibourhood_sorted[mask0].index,mean_prices_per_neibourhood_sorted[mask0], color = 'blue')\n",
    "plt.xlabel('Average Price')\n",
    "plt.ylabel('Neighbourhood')\n",
    "plt.title('Average Price Per Neihbourhood')\n",
    "plt.show()\n",
    "plt.close()"
   ]
  },
  {
   "cell_type": "markdown",
   "metadata": {},
   "source": [
    "### Nan values analysis <a class=\"anchor\" id=\"second-bullet\"></a>"
   ]
  },
  {
   "cell_type": "markdown",
   "metadata": {},
   "source": [
    "The dataset has a total of 29819 NaN values. We will classify any column with more than 60% NaN values an outlier column. By analysing the bar plot below, we can confirm that 60% appears to be the ideal threshold value. The columns with less than 5% NaN values were excluded from the bar plot."
   ]
  },
  {
   "cell_type": "code",
   "execution_count": 11,
   "metadata": {},
   "outputs": [
    {
     "name": "stdout",
     "output_type": "stream",
     "text": [
      "The total number of nan values in this dataset is 312368\n",
      "xl_picture_url          1.000000\n",
      "host_acceptance_rate    1.000000\n",
      "medium_url              1.000000\n",
      "thumbnail_url           1.000000\n",
      "square_feet             0.979117\n",
      "monthly_price           0.906884\n",
      "weekly_price            0.895087\n",
      "dtype: float64\n"
     ]
    }
   ],
   "source": [
    "print(f'The total number of nan values in this dataset is {air_bnb_listings_raw.isnull().sum().sum()}')\n",
    "null_values_per_column = air_bnb_listings_raw.isnull().sum()/air_bnb_listings_raw.shape[0]\n",
    "print(null_values_per_column.sort_values(ascending=False)[null_values_per_column > .6])"
   ]
  },
  {
   "cell_type": "code",
   "execution_count": 13,
   "metadata": {},
   "outputs": [
    {
     "data": {
      "image/png": "[encoded data removed]",
      "text/plain": [
       "<Figure size 432x288 with 1 Axes>"
      ]
     },
     "metadata": {},
     "output_type": "display_data"
    }
   ],
   "source": [
    "mask0 = null_values_per_column > 0.05\n",
    "mask1 = null_values_per_column >= 0.6\n",
    "mask2 = null_values_per_column < 0.6   \n",
    "\n",
    "plt.bar(null_values_per_column[mask0][mask1].index.values, null_values_per_column[mask0][mask1].values, color = 'red')\n",
    "plt.xticks([])\n",
    "plt.bar(null_values_per_column[mask0][mask2].index.values, null_values_per_column[mask0][mask2].values, color = 'blue')\n",
    "plt.xlabel('Columns')\n",
    "plt.ylabel('Ratio of NaN')\n",
    "plt.title('NaN ratio per column')\n",
    "plt.show()\n",
    "plt.close()"
   ]
  }
 ],
 "metadata": {
  "kernelspec": {
   "display_name": "Python 3",
   "language": "python",
   "name": "python3"
  },
  "language_info": {
   "codemirror_mode": {
    "name": "ipython",
    "version": 3
   },
   "file_extension": ".py",
   "mimetype": "text/x-python",
   "name": "python",
   "nbconvert_exporter": "python",
   "pygments_lexer": "ipython3",
   "version": "3.6.5"
  }
 },
 "nbformat": 4,
 "nbformat_minor": 2
}
