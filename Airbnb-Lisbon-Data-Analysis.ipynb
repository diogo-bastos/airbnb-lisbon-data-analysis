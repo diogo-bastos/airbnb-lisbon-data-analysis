{
 "cells": [
  {
   "cell_type": "markdown",
   "metadata": {},
   "source": [
    "# Airbnb Lisbon Data Analysis"
   ]
  },
  {
   "cell_type": "markdown",
   "metadata": {},
   "source": [
    "This notebook will analyse public data from airbnb, obtained from http://insideairbnb.com/get-the-data.html. We will look at data from Lisbon, the capital city of Portugal, to answer the following questions:\n",
    "\n",
    "###### Which neighbourhoods have the most listings, are more expensive and have the most positive reviews?\n",
    "\n",
    "###### Do super hosts have more positive reviews than regular hosts?\n",
    "\n",
    "###### What are the factors that most contribute to more positive reviews?\n",
    "\n"
   ]
  },
  {
   "cell_type": "markdown",
   "metadata": {},
   "source": [
    "## Table of Contents:\n",
    "* [Data Sneak Peek](#first-bullet)\n",
    "* [Neighbourhoods Analysis](#second-bullet)\n",
    "* [Super Host Analysis](#third-bullet)\n",
    "* [Review Score Prediction](#fourth-bullet)\n",
    "    * [NaN values analysis](#fifth-bullet)"
   ]
  },
  {
   "cell_type": "markdown",
   "metadata": {},
   "source": [
    "### Data Sneak Peek <a class=\"anchor\" id=\"first-bullet\"></a>"
   ]
  },
  {
   "cell_type": "code",
   "execution_count": 43,
   "metadata": {},
   "outputs": [],
   "source": [
    "# Library imports\n",
    "import numpy as np\n",
    "import pandas as pd\n",
    "import matplotlib.pyplot as plt\n",
    "\n",
    "from sklearn.preprocessing import MultiLabelBinarizer\n",
    "from sklearn.preprocessing import StandardScaler\n",
    "from sklearn.model_selection import train_test_split\n",
    "from sklearn.model_selection import learning_curve\n",
    "from sklearn.model_selection import ShuffleSplit\n",
    "from sklearn.model_selection import permutation_test_score\n",
    "from sklearn.grid_search import GridSearchCV\n",
    "from sklearn.metrics import make_scorer\n",
    "from sklearn.metrics import r2_score\n",
    "\n",
    "from sklearn.ensemble import RandomForestRegressor\n",
    "\n",
    "# magic word for producing visualizations in notebook\n",
    "%matplotlib inline"
   ]
  },
  {
   "cell_type": "code",
   "execution_count": 2,
   "metadata": {},
   "outputs": [],
   "source": [
    "# Functions\n",
    "\n",
    "def parse_into_float(price_string):\n",
    "    return float(price_string[1:].replace(',', ''))\n",
    "\n",
    "def get_true_false_dummy(true_false_string):\n",
    "    if true_false_string == 't':\n",
    "        return 1\n",
    "    elif true_false_string == 'f':\n",
    "        return 0\n",
    "    else:\n",
    "        return np.nan\n",
    "\n",
    "def parse_lists(list_string):\n",
    "    list_string = list_string[1:-1]\n",
    "    list_string = list_string.replace('\"', '')\n",
    "    list_string = list_string.replace(' ', '')\n",
    "    list_string = list_string.replace('\\'', '')\n",
    "    return list_string.split(',')\n",
    "\n",
    "def parse_lists_into_count(list_string):\n",
    "    return len(parse_lists(list_string))"
   ]
  },
  {
   "cell_type": "code",
   "execution_count": 3,
   "metadata": {},
   "outputs": [
    {
     "data": {
      "text/html": [
       "<div>\n",
       "<style scoped>\n",
       "    .dataframe tbody tr th:only-of-type {\n",
       "        vertical-align: middle;\n",
       "    }\n",
       "\n",
       "    .dataframe tbody tr th {\n",
       "        vertical-align: top;\n",
       "    }\n",
       "\n",
       "    .dataframe thead th {\n",
       "        text-align: right;\n",
       "    }\n",
       "</style>\n",
       "<table border=\"1\" class=\"dataframe\">\n",
       "  <thead>\n",
       "    <tr style=\"text-align: right;\">\n",
       "      <th></th>\n",
       "      <th>id</th>\n",
       "      <th>listing_url</th>\n",
       "      <th>scrape_id</th>\n",
       "      <th>last_scraped</th>\n",
       "      <th>name</th>\n",
       "      <th>summary</th>\n",
       "      <th>space</th>\n",
       "      <th>description</th>\n",
       "      <th>experiences_offered</th>\n",
       "      <th>neighborhood_overview</th>\n",
       "      <th>...</th>\n",
       "      <th>requires_license</th>\n",
       "      <th>license</th>\n",
       "      <th>jurisdiction_names</th>\n",
       "      <th>instant_bookable</th>\n",
       "      <th>is_business_travel_ready</th>\n",
       "      <th>cancellation_policy</th>\n",
       "      <th>require_guest_profile_picture</th>\n",
       "      <th>require_guest_phone_verification</th>\n",
       "      <th>calculated_host_listings_count</th>\n",
       "      <th>reviews_per_month</th>\n",
       "    </tr>\n",
       "  </thead>\n",
       "  <tbody>\n",
       "    <tr>\n",
       "      <th>0</th>\n",
       "      <td>24056</td>\n",
       "      <td>https://www.airbnb.com/rooms/24056</td>\n",
       "      <td>20181017033106</td>\n",
       "      <td>2018-10-17</td>\n",
       "      <td>Linda-a-Velha</td>\n",
       "      <td>NaN</td>\n",
       "      <td>A comfortable apartment with pool during the s...</td>\n",
       "      <td>A comfortable apartment with pool during the s...</td>\n",
       "      <td>none</td>\n",
       "      <td>NaN</td>\n",
       "      <td>...</td>\n",
       "      <td>t</td>\n",
       "      <td>NaN</td>\n",
       "      <td>NaN</td>\n",
       "      <td>f</td>\n",
       "      <td>f</td>\n",
       "      <td>strict_14_with_grace_period</td>\n",
       "      <td>f</td>\n",
       "      <td>f</td>\n",
       "      <td>1</td>\n",
       "      <td>NaN</td>\n",
       "    </tr>\n",
       "    <tr>\n",
       "      <th>1</th>\n",
       "      <td>25659</td>\n",
       "      <td>https://www.airbnb.com/rooms/25659</td>\n",
       "      <td>20181017033106</td>\n",
       "      <td>2018-10-17</td>\n",
       "      <td>Sunny,  Alfama  Sleeps 3 - Coeur d'Alfama</td>\n",
       "      <td>Heart of Alfama! Sunny Charming 1 Bedroom apar...</td>\n",
       "      <td>Charming sunny apartment in the heart of Alfam...</td>\n",
       "      <td>Heart of Alfama! Sunny Charming 1 Bedroom apar...</td>\n",
       "      <td>none</td>\n",
       "      <td>Alfama is the oldest and most picturesque quar...</td>\n",
       "      <td>...</td>\n",
       "      <td>t</td>\n",
       "      <td>56539/AL.</td>\n",
       "      <td>{Lisbon,\" Portugal\"}</td>\n",
       "      <td>t</td>\n",
       "      <td>f</td>\n",
       "      <td>moderate</td>\n",
       "      <td>f</td>\n",
       "      <td>f</td>\n",
       "      <td>1</td>\n",
       "      <td>1.7</td>\n",
       "    </tr>\n",
       "  </tbody>\n",
       "</table>\n",
       "<p>2 rows × 96 columns</p>\n",
       "</div>"
      ],
      "text/plain": [
       "      id                         listing_url       scrape_id last_scraped  \\\n",
       "0  24056  https://www.airbnb.com/rooms/24056  20181017033106   2018-10-17   \n",
       "1  25659  https://www.airbnb.com/rooms/25659  20181017033106   2018-10-17   \n",
       "\n",
       "                                        name  \\\n",
       "0                              Linda-a-Velha   \n",
       "1  Sunny,  Alfama  Sleeps 3 - Coeur d'Alfama   \n",
       "\n",
       "                                             summary  \\\n",
       "0                                                NaN   \n",
       "1  Heart of Alfama! Sunny Charming 1 Bedroom apar...   \n",
       "\n",
       "                                               space  \\\n",
       "0  A comfortable apartment with pool during the s...   \n",
       "1  Charming sunny apartment in the heart of Alfam...   \n",
       "\n",
       "                                         description experiences_offered  \\\n",
       "0  A comfortable apartment with pool during the s...                none   \n",
       "1  Heart of Alfama! Sunny Charming 1 Bedroom apar...                none   \n",
       "\n",
       "                               neighborhood_overview        ...          \\\n",
       "0                                                NaN        ...           \n",
       "1  Alfama is the oldest and most picturesque quar...        ...           \n",
       "\n",
       "  requires_license    license    jurisdiction_names instant_bookable  \\\n",
       "0                t        NaN                   NaN                f   \n",
       "1                t  56539/AL.  {Lisbon,\" Portugal\"}                t   \n",
       "\n",
       "  is_business_travel_ready          cancellation_policy  \\\n",
       "0                        f  strict_14_with_grace_period   \n",
       "1                        f                     moderate   \n",
       "\n",
       "   require_guest_profile_picture require_guest_phone_verification  \\\n",
       "0                              f                                f   \n",
       "1                              f                                f   \n",
       "\n",
       "   calculated_host_listings_count  reviews_per_month  \n",
       "0                               1                NaN  \n",
       "1                               1                1.7  \n",
       "\n",
       "[2 rows x 96 columns]"
      ]
     },
     "execution_count": 3,
     "metadata": {},
     "output_type": "execute_result"
    }
   ],
   "source": [
    "# Get the raw data from the csv file and take a peak\n",
    "air_bnb_listings_raw = pd.read_csv('listings.csv')\n",
    "air_bnb_listings_raw.head(2)"
   ]
  },
  {
   "cell_type": "code",
   "execution_count": 4,
   "metadata": {},
   "outputs": [
    {
     "name": "stdout",
     "output_type": "stream",
     "text": [
      "This dataset has 22123 rows and 96 columns\n"
     ]
    },
    {
     "data": {
      "text/html": [
       "<div>\n",
       "<style scoped>\n",
       "    .dataframe tbody tr th:only-of-type {\n",
       "        vertical-align: middle;\n",
       "    }\n",
       "\n",
       "    .dataframe tbody tr th {\n",
       "        vertical-align: top;\n",
       "    }\n",
       "\n",
       "    .dataframe thead th {\n",
       "        text-align: right;\n",
       "    }\n",
       "</style>\n",
       "<table border=\"1\" class=\"dataframe\">\n",
       "  <thead>\n",
       "    <tr style=\"text-align: right;\">\n",
       "      <th></th>\n",
       "      <th>id</th>\n",
       "      <th>scrape_id</th>\n",
       "      <th>thumbnail_url</th>\n",
       "      <th>medium_url</th>\n",
       "      <th>xl_picture_url</th>\n",
       "      <th>host_id</th>\n",
       "      <th>host_acceptance_rate</th>\n",
       "      <th>host_listings_count</th>\n",
       "      <th>host_total_listings_count</th>\n",
       "      <th>latitude</th>\n",
       "      <th>...</th>\n",
       "      <th>number_of_reviews</th>\n",
       "      <th>review_scores_rating</th>\n",
       "      <th>review_scores_accuracy</th>\n",
       "      <th>review_scores_cleanliness</th>\n",
       "      <th>review_scores_checkin</th>\n",
       "      <th>review_scores_communication</th>\n",
       "      <th>review_scores_location</th>\n",
       "      <th>review_scores_value</th>\n",
       "      <th>calculated_host_listings_count</th>\n",
       "      <th>reviews_per_month</th>\n",
       "    </tr>\n",
       "  </thead>\n",
       "  <tbody>\n",
       "    <tr>\n",
       "      <th>count</th>\n",
       "      <td>2.212300e+04</td>\n",
       "      <td>2.212300e+04</td>\n",
       "      <td>0.0</td>\n",
       "      <td>0.0</td>\n",
       "      <td>0.0</td>\n",
       "      <td>2.212300e+04</td>\n",
       "      <td>0.0</td>\n",
       "      <td>22121.000000</td>\n",
       "      <td>22121.000000</td>\n",
       "      <td>22123.000000</td>\n",
       "      <td>...</td>\n",
       "      <td>22123.000000</td>\n",
       "      <td>18605.000000</td>\n",
       "      <td>18591.000000</td>\n",
       "      <td>18599.000000</td>\n",
       "      <td>18584.000000</td>\n",
       "      <td>18592.000000</td>\n",
       "      <td>18585.000000</td>\n",
       "      <td>18582.000000</td>\n",
       "      <td>22123.000000</td>\n",
       "      <td>18789.000000</td>\n",
       "    </tr>\n",
       "    <tr>\n",
       "      <th>mean</th>\n",
       "      <td>1.631487e+07</td>\n",
       "      <td>2.018102e+13</td>\n",
       "      <td>NaN</td>\n",
       "      <td>NaN</td>\n",
       "      <td>NaN</td>\n",
       "      <td>6.721255e+07</td>\n",
       "      <td>NaN</td>\n",
       "      <td>15.411916</td>\n",
       "      <td>15.411916</td>\n",
       "      <td>38.755540</td>\n",
       "      <td>...</td>\n",
       "      <td>33.259865</td>\n",
       "      <td>92.450954</td>\n",
       "      <td>9.527083</td>\n",
       "      <td>9.454756</td>\n",
       "      <td>9.655295</td>\n",
       "      <td>9.678410</td>\n",
       "      <td>9.393489</td>\n",
       "      <td>9.216769</td>\n",
       "      <td>12.259775</td>\n",
       "      <td>1.874947</td>\n",
       "    </tr>\n",
       "    <tr>\n",
       "      <th>std</th>\n",
       "      <td>8.490358e+06</td>\n",
       "      <td>2.425836e+00</td>\n",
       "      <td>NaN</td>\n",
       "      <td>NaN</td>\n",
       "      <td>NaN</td>\n",
       "      <td>6.551403e+07</td>\n",
       "      <td>NaN</td>\n",
       "      <td>50.192890</td>\n",
       "      <td>50.192890</td>\n",
       "      <td>0.103668</td>\n",
       "      <td>...</td>\n",
       "      <td>51.666962</td>\n",
       "      <td>8.275162</td>\n",
       "      <td>0.840736</td>\n",
       "      <td>0.867613</td>\n",
       "      <td>0.769299</td>\n",
       "      <td>0.742025</td>\n",
       "      <td>0.790379</td>\n",
       "      <td>0.880603</td>\n",
       "      <td>34.383392</td>\n",
       "      <td>1.695623</td>\n",
       "    </tr>\n",
       "    <tr>\n",
       "      <th>min</th>\n",
       "      <td>2.405600e+04</td>\n",
       "      <td>2.018102e+13</td>\n",
       "      <td>NaN</td>\n",
       "      <td>NaN</td>\n",
       "      <td>NaN</td>\n",
       "      <td>1.709600e+04</td>\n",
       "      <td>NaN</td>\n",
       "      <td>0.000000</td>\n",
       "      <td>0.000000</td>\n",
       "      <td>38.675089</td>\n",
       "      <td>...</td>\n",
       "      <td>0.000000</td>\n",
       "      <td>20.000000</td>\n",
       "      <td>2.000000</td>\n",
       "      <td>2.000000</td>\n",
       "      <td>2.000000</td>\n",
       "      <td>2.000000</td>\n",
       "      <td>2.000000</td>\n",
       "      <td>2.000000</td>\n",
       "      <td>1.000000</td>\n",
       "      <td>0.010000</td>\n",
       "    </tr>\n",
       "    <tr>\n",
       "      <th>25%</th>\n",
       "      <td>9.251693e+06</td>\n",
       "      <td>2.018102e+13</td>\n",
       "      <td>NaN</td>\n",
       "      <td>NaN</td>\n",
       "      <td>NaN</td>\n",
       "      <td>1.192645e+07</td>\n",
       "      <td>NaN</td>\n",
       "      <td>1.000000</td>\n",
       "      <td>1.000000</td>\n",
       "      <td>38.711027</td>\n",
       "      <td>...</td>\n",
       "      <td>2.000000</td>\n",
       "      <td>90.000000</td>\n",
       "      <td>9.000000</td>\n",
       "      <td>9.000000</td>\n",
       "      <td>9.000000</td>\n",
       "      <td>10.000000</td>\n",
       "      <td>9.000000</td>\n",
       "      <td>9.000000</td>\n",
       "      <td>1.000000</td>\n",
       "      <td>0.520000</td>\n",
       "    </tr>\n",
       "    <tr>\n",
       "      <th>50%</th>\n",
       "      <td>1.795770e+07</td>\n",
       "      <td>2.018102e+13</td>\n",
       "      <td>NaN</td>\n",
       "      <td>NaN</td>\n",
       "      <td>NaN</td>\n",
       "      <td>4.070291e+07</td>\n",
       "      <td>NaN</td>\n",
       "      <td>3.000000</td>\n",
       "      <td>3.000000</td>\n",
       "      <td>38.717512</td>\n",
       "      <td>...</td>\n",
       "      <td>11.000000</td>\n",
       "      <td>94.000000</td>\n",
       "      <td>10.000000</td>\n",
       "      <td>10.000000</td>\n",
       "      <td>10.000000</td>\n",
       "      <td>10.000000</td>\n",
       "      <td>10.000000</td>\n",
       "      <td>9.000000</td>\n",
       "      <td>3.000000</td>\n",
       "      <td>1.370000</td>\n",
       "    </tr>\n",
       "    <tr>\n",
       "      <th>75%</th>\n",
       "      <td>2.360596e+07</td>\n",
       "      <td>2.018102e+13</td>\n",
       "      <td>NaN</td>\n",
       "      <td>NaN</td>\n",
       "      <td>NaN</td>\n",
       "      <td>1.167129e+08</td>\n",
       "      <td>NaN</td>\n",
       "      <td>10.000000</td>\n",
       "      <td>10.000000</td>\n",
       "      <td>38.739007</td>\n",
       "      <td>...</td>\n",
       "      <td>41.000000</td>\n",
       "      <td>98.000000</td>\n",
       "      <td>10.000000</td>\n",
       "      <td>10.000000</td>\n",
       "      <td>10.000000</td>\n",
       "      <td>10.000000</td>\n",
       "      <td>10.000000</td>\n",
       "      <td>10.000000</td>\n",
       "      <td>8.000000</td>\n",
       "      <td>2.850000</td>\n",
       "    </tr>\n",
       "    <tr>\n",
       "      <th>max</th>\n",
       "      <td>2.933783e+07</td>\n",
       "      <td>2.018102e+13</td>\n",
       "      <td>NaN</td>\n",
       "      <td>NaN</td>\n",
       "      <td>NaN</td>\n",
       "      <td>2.210216e+08</td>\n",
       "      <td>NaN</td>\n",
       "      <td>422.000000</td>\n",
       "      <td>422.000000</td>\n",
       "      <td>39.301960</td>\n",
       "      <td>...</td>\n",
       "      <td>663.000000</td>\n",
       "      <td>100.000000</td>\n",
       "      <td>10.000000</td>\n",
       "      <td>10.000000</td>\n",
       "      <td>10.000000</td>\n",
       "      <td>10.000000</td>\n",
       "      <td>10.000000</td>\n",
       "      <td>10.000000</td>\n",
       "      <td>274.000000</td>\n",
       "      <td>19.860000</td>\n",
       "    </tr>\n",
       "  </tbody>\n",
       "</table>\n",
       "<p>8 rows × 33 columns</p>\n",
       "</div>"
      ],
      "text/plain": [
       "                 id     scrape_id  thumbnail_url  medium_url  xl_picture_url  \\\n",
       "count  2.212300e+04  2.212300e+04            0.0         0.0             0.0   \n",
       "mean   1.631487e+07  2.018102e+13            NaN         NaN             NaN   \n",
       "std    8.490358e+06  2.425836e+00            NaN         NaN             NaN   \n",
       "min    2.405600e+04  2.018102e+13            NaN         NaN             NaN   \n",
       "25%    9.251693e+06  2.018102e+13            NaN         NaN             NaN   \n",
       "50%    1.795770e+07  2.018102e+13            NaN         NaN             NaN   \n",
       "75%    2.360596e+07  2.018102e+13            NaN         NaN             NaN   \n",
       "max    2.933783e+07  2.018102e+13            NaN         NaN             NaN   \n",
       "\n",
       "            host_id  host_acceptance_rate  host_listings_count  \\\n",
       "count  2.212300e+04                   0.0         22121.000000   \n",
       "mean   6.721255e+07                   NaN            15.411916   \n",
       "std    6.551403e+07                   NaN            50.192890   \n",
       "min    1.709600e+04                   NaN             0.000000   \n",
       "25%    1.192645e+07                   NaN             1.000000   \n",
       "50%    4.070291e+07                   NaN             3.000000   \n",
       "75%    1.167129e+08                   NaN            10.000000   \n",
       "max    2.210216e+08                   NaN           422.000000   \n",
       "\n",
       "       host_total_listings_count      latitude        ...          \\\n",
       "count               22121.000000  22123.000000        ...           \n",
       "mean                   15.411916     38.755540        ...           \n",
       "std                    50.192890      0.103668        ...           \n",
       "min                     0.000000     38.675089        ...           \n",
       "25%                     1.000000     38.711027        ...           \n",
       "50%                     3.000000     38.717512        ...           \n",
       "75%                    10.000000     38.739007        ...           \n",
       "max                   422.000000     39.301960        ...           \n",
       "\n",
       "       number_of_reviews  review_scores_rating  review_scores_accuracy  \\\n",
       "count       22123.000000          18605.000000            18591.000000   \n",
       "mean           33.259865             92.450954                9.527083   \n",
       "std            51.666962              8.275162                0.840736   \n",
       "min             0.000000             20.000000                2.000000   \n",
       "25%             2.000000             90.000000                9.000000   \n",
       "50%            11.000000             94.000000               10.000000   \n",
       "75%            41.000000             98.000000               10.000000   \n",
       "max           663.000000            100.000000               10.000000   \n",
       "\n",
       "       review_scores_cleanliness  review_scores_checkin  \\\n",
       "count               18599.000000           18584.000000   \n",
       "mean                    9.454756               9.655295   \n",
       "std                     0.867613               0.769299   \n",
       "min                     2.000000               2.000000   \n",
       "25%                     9.000000               9.000000   \n",
       "50%                    10.000000              10.000000   \n",
       "75%                    10.000000              10.000000   \n",
       "max                    10.000000              10.000000   \n",
       "\n",
       "       review_scores_communication  review_scores_location  \\\n",
       "count                 18592.000000            18585.000000   \n",
       "mean                      9.678410                9.393489   \n",
       "std                       0.742025                0.790379   \n",
       "min                       2.000000                2.000000   \n",
       "25%                      10.000000                9.000000   \n",
       "50%                      10.000000               10.000000   \n",
       "75%                      10.000000               10.000000   \n",
       "max                      10.000000               10.000000   \n",
       "\n",
       "       review_scores_value  calculated_host_listings_count  reviews_per_month  \n",
       "count         18582.000000                    22123.000000       18789.000000  \n",
       "mean              9.216769                       12.259775           1.874947  \n",
       "std               0.880603                       34.383392           1.695623  \n",
       "min               2.000000                        1.000000           0.010000  \n",
       "25%               9.000000                        1.000000           0.520000  \n",
       "50%               9.000000                        3.000000           1.370000  \n",
       "75%              10.000000                        8.000000           2.850000  \n",
       "max              10.000000                      274.000000          19.860000  \n",
       "\n",
       "[8 rows x 33 columns]"
      ]
     },
     "execution_count": 4,
     "metadata": {},
     "output_type": "execute_result"
    }
   ],
   "source": [
    "# Learn the shape of the dataset\n",
    "print(f'This dataset has {air_bnb_listings_raw.shape[0]} rows and {air_bnb_listings_raw.shape[1]} columns')\n",
    "\n",
    "# Get some basic information about each of the columns\n",
    "air_bnb_listings_raw.describe()"
   ]
  },
  {
   "cell_type": "markdown",
   "metadata": {},
   "source": [
    "### Neighbourhoods Analysis <a class=\"anchor\" id=\"second-bullet\"></a>"
   ]
  },
  {
   "cell_type": "markdown",
   "metadata": {},
   "source": [
    "By analysing the graph below, we can see that the 10 neighbourhoods with the most listings are all inside the center of Lisbon,\n",
    "which is not surprising since the center is by far the most tourism prone area."
   ]
  },
  {
   "cell_type": "code",
   "execution_count": 5,
   "metadata": {},
   "outputs": [
    {
     "data": {
      "text/plain": [
       "neighbourhood\n",
       "Alfama                  1376\n",
       "Baixa                    941\n",
       "São Jorge de Arroios     815\n",
       "Encarnação               770\n",
       "Anjos                    725\n",
       "Santa Catarina           683\n",
       "São Paulo                679\n",
       "Mercês                   588\n",
       "Coração de Jesus         512\n",
       "Pena                     475\n",
       "Name: id, dtype: int64"
      ]
     },
     "execution_count": 5,
     "metadata": {},
     "output_type": "execute_result"
    }
   ],
   "source": [
    "nr_listings_per_neighbourhood = air_bnb_listings_raw.groupby(['neighbourhood'])['id'].count()\n",
    "nr_listings_per_neighbourhood.sort_values(ascending=False).head(10)"
   ]
  },
  {
   "cell_type": "code",
   "execution_count": 6,
   "metadata": {},
   "outputs": [
    {
     "data": {
      "image/png": "[encoded data removed]",
      "text/plain": [
       "<Figure size 432x288 with 1 Axes>"
      ]
     },
     "metadata": {},
     "output_type": "display_data"
    }
   ],
   "source": [
    "mask0 = nr_listings_per_neighbourhood > 400\n",
    "nr_listings_per_neighbourhood_sorted = nr_listings_per_neighbourhood.sort_values()\n",
    "plt.barh(nr_listings_per_neighbourhood_sorted[mask0].index, nr_listings_per_neighbourhood_sorted[mask0], color = 'blue')\n",
    "plt.xlabel('Number of listings')\n",
    "plt.ylabel('Neighbourhood')\n",
    "plt.title('Number Of Listings Per Neighbourhood')\n",
    "plt.show()\n",
    "plt.close()"
   ]
  },
  {
   "cell_type": "markdown",
   "metadata": {},
   "source": [
    "By analysing the graph below, we can see that there is not much of a difference, between the review scores for each of the neighbourhoods.\n",
    "Therefore, we can conclude that all neighbourhood are well liked by the guests."
   ]
  },
  {
   "cell_type": "code",
   "execution_count": 7,
   "metadata": {},
   "outputs": [
    {
     "data": {
      "text/plain": [
       "neighbourhood\n",
       "Charneca                   98.250000\n",
       "São João de Deus           94.170732\n",
       "Santa Maria dos Olivais    94.144444\n",
       "Ajuda                      93.730496\n",
       "Estrella/Lapa              93.572000\n",
       "Graça                      93.546988\n",
       "Belém                      93.526690\n",
       "São Mamede                 93.512635\n",
       "São Domingos de Benfica    93.430108\n",
       "Parque das Nações          93.308642\n",
       "Name: review_scores_rating, dtype: float64"
      ]
     },
     "execution_count": 7,
     "metadata": {},
     "output_type": "execute_result"
    }
   ],
   "source": [
    "review_score_per_neighbourhood = air_bnb_listings_raw.groupby(['neighbourhood'])['review_scores_rating'].mean()         \n",
    "review_score_per_neighbourhood.sort_values(ascending=False).head(10)"
   ]
  },
  {
   "cell_type": "code",
   "execution_count": 8,
   "metadata": {},
   "outputs": [
    {
     "data": {
      "image/png": "[encoded data removed]",
      "text/plain": [
       "<Figure size 432x288 with 1 Axes>"
      ]
     },
     "metadata": {},
     "output_type": "display_data"
    }
   ],
   "source": [
    "mask0 = review_score_per_neighbourhood > 0\n",
    "review_score_per_neighbourhood_sorted = review_score_per_neighbourhood.sort_values()\n",
    "plt.barh(review_score_per_neighbourhood_sorted[mask0].index,review_score_per_neighbourhood_sorted[mask0], color = 'blue')\n",
    "plt.xlabel('Review Score')\n",
    "plt.ylabel('Neighbourhood')\n",
    "plt.title('Review Score Per neighbourhood')\n",
    "plt.yticks([])\n",
    "plt.show()\n",
    "plt.close()"
   ]
  },
  {
   "cell_type": "code",
   "execution_count": 9,
   "metadata": {},
   "outputs": [],
   "source": [
    "\n",
    "\n",
    "air_bnb_listings_raw['float_price'] = air_bnb_listings_raw['price'].apply(parse_into_float)"
   ]
  },
  {
   "cell_type": "markdown",
   "metadata": {},
   "source": [
    "By analysing the graph below, we notice that \"Bairro Alto\" has by far the most expensive price. The neighbourhoods \"Benfica\", \"São Domingos de Benfica\" and \"Carnide\" also have higher prices than average. This might be explained to the fact that \"Estádio da Luz\", a football stadium that receives a great number of high profile internacional and nacional football games is in their vicinity."
   ]
  },
  {
   "cell_type": "code",
   "execution_count": 10,
   "metadata": {},
   "outputs": [
    {
     "data": {
      "text/plain": [
       "neighbourhood\n",
       "Bairro Alto                300.000000\n",
       "Benfica                    210.588785\n",
       "São Domingos de Benfica    197.346667\n",
       "Carnide                    149.792683\n",
       "Baixa                      114.463337\n",
       "Parque das Nações          112.525806\n",
       "Encarnação                 108.211688\n",
       "Santa Isabel               107.295000\n",
       "São Francisco Xavier       103.100000\n",
       "Mercês                      98.015306\n",
       "Name: float_price, dtype: float64"
      ]
     },
     "execution_count": 10,
     "metadata": {},
     "output_type": "execute_result"
    }
   ],
   "source": [
    "mean_prices_per_neighbourhood = air_bnb_listings_raw.groupby(['neighbourhood'])['float_price'].mean()\n",
    "mean_prices_per_neighbourhood.sort_values(ascending=False).head(10)"
   ]
  },
  {
   "cell_type": "code",
   "execution_count": 11,
   "metadata": {},
   "outputs": [
    {
     "data": {
      "image/png": "[encoded data removed]",
      "text/plain": [
       "<Figure size 432x288 with 1 Axes>"
      ]
     },
     "metadata": {},
     "output_type": "display_data"
    }
   ],
   "source": [
    "mean_prices_per_neighbourhood_sorted = mean_prices_per_neighbourhood.sort_values()\n",
    "mask0 = mean_prices_per_neighbourhood_sorted > 90\n",
    "plt.barh(mean_prices_per_neighbourhood_sorted[mask0].index,mean_prices_per_neighbourhood_sorted[mask0], color = 'blue')\n",
    "plt.xlabel('Average Price')\n",
    "plt.ylabel('Neighbourhood')\n",
    "plt.title('Average Price Per Neighbourhood')\n",
    "plt.show()\n",
    "plt.close()"
   ]
  },
  {
   "cell_type": "markdown",
   "metadata": {},
   "source": [
    "### Super Host Analysis <a class=\"anchor\" id=\"third-bullet\"></a>"
   ]
  },
  {
   "cell_type": "markdown",
   "metadata": {},
   "source": [
    "As we can see below, super hosts have on average a score of 96, while regular hosts only have an average score of 90. Therefore, it is safe to say that guests are satisfied with super hosts overall."
   ]
  },
  {
   "cell_type": "code",
   "execution_count": 12,
   "metadata": {},
   "outputs": [
    {
     "name": "stdout",
     "output_type": "stream",
     "text": [
      "[ 0.  1. nan]\n"
     ]
    }
   ],
   "source": [
    "\n",
    "\n",
    "air_bnb_listings_raw['host_is_superhost_encoded'] = air_bnb_listings_raw['host_is_superhost'].apply(get_true_false_dummy)\n",
    "print(air_bnb_listings_raw['host_is_superhost_encoded'].unique())"
   ]
  },
  {
   "cell_type": "code",
   "execution_count": 13,
   "metadata": {},
   "outputs": [
    {
     "data": {
      "text/plain": [
       "host_is_superhost_encoded\n",
       "1.0    96.862366\n",
       "0.0    90.778280\n",
       "Name: review_scores_rating, dtype: float64"
      ]
     },
     "execution_count": 13,
     "metadata": {},
     "output_type": "execute_result"
    }
   ],
   "source": [
    "review_score_per_super_user = air_bnb_listings_raw.groupby(['host_is_superhost_encoded'])['review_scores_rating'].mean()         \n",
    "review_score_per_super_user.sort_values(ascending=False).head(10)"
   ]
  },
  {
   "cell_type": "markdown",
   "metadata": {},
   "source": [
    "### Review Score Prediction <a class=\"anchor\" id=\"fourth-bullet\"></a>"
   ]
  },
  {
   "cell_type": "markdown",
   "metadata": {},
   "source": [
    "In the next section we will use logistic regression and forest regression methods in order to try predict the guests' review score based on the other features of the dataset. Afterwhards, feature importance will be analysed based on the results of these regression methods."
   ]
  },
  {
   "cell_type": "markdown",
   "metadata": {},
   "source": [
    "### Nan values analysis <a class=\"anchor\" id=\"fifth-bullet\"></a>"
   ]
  },
  {
   "cell_type": "markdown",
   "metadata": {},
   "source": [
    "The dataset has a total of 29819 NaN values. We will classify any column with more than 60% NaN values an outlier column. By analysing the bar plot below, we can confirm that 60% appears to be the ideal threshold value. The columns with less than 5% NaN values were excluded from the bar plot.\n",
    "\n",
    "The outlier columns discovered in this step will be dropped from the dataset."
   ]
  },
  {
   "cell_type": "code",
   "execution_count": 14,
   "metadata": {},
   "outputs": [
    {
     "name": "stdout",
     "output_type": "stream",
     "text": [
      "The total number of nan values in this dataset is 312370\n",
      "xl_picture_url          1.000000\n",
      "thumbnail_url           1.000000\n",
      "medium_url              1.000000\n",
      "host_acceptance_rate    1.000000\n",
      "square_feet             0.979117\n",
      "monthly_price           0.906884\n",
      "weekly_price            0.895087\n",
      "dtype: float64\n"
     ]
    }
   ],
   "source": [
    "print(f'The total number of nan values in this dataset is {air_bnb_listings_raw.isnull().sum().sum()}')\n",
    "null_values_per_column = air_bnb_listings_raw.isnull().sum()/air_bnb_listings_raw.shape[0]\n",
    "print(null_values_per_column.sort_values(ascending=False)[null_values_per_column > .6])"
   ]
  },
  {
   "cell_type": "code",
   "execution_count": 15,
   "metadata": {},
   "outputs": [
    {
     "data": {
      "image/png": "[encoded data removed]",
      "text/plain": [
       "<Figure size 432x288 with 1 Axes>"
      ]
     },
     "metadata": {},
     "output_type": "display_data"
    }
   ],
   "source": [
    "mask0 = null_values_per_column > 0.05\n",
    "mask1 = null_values_per_column >= 0.6\n",
    "mask2 = null_values_per_column < 0.6   \n",
    "\n",
    "plt.bar(null_values_per_column[mask0][mask1].index.values, null_values_per_column[mask0][mask1].values, color = 'red')\n",
    "plt.xticks([])\n",
    "plt.bar(null_values_per_column[mask0][mask2].index.values, null_values_per_column[mask0][mask2].values, color = 'blue')\n",
    "plt.xlabel('Columns')\n",
    "plt.ylabel('Ratio of NaN')\n",
    "plt.title('NaN ratio per column')\n",
    "plt.show()\n",
    "plt.close()"
   ]
  },
  {
   "cell_type": "markdown",
   "metadata": {},
   "source": [
    "The previously identified outlier columns will be dropped now."
   ]
  },
  {
   "cell_type": "code",
   "execution_count": 16,
   "metadata": {},
   "outputs": [],
   "source": [
    "# Drop the outlier columns\n",
    "outlier_columns = ['xl_picture_url', 'thumbnail_url', 'medium_url', 'host_acceptance_rate', \\\n",
    "           'square_feet', 'monthly_price', 'weekly_price']\n",
    "air_bnb_listings = air_bnb_listings_raw.drop(outlier_columns, axis=1)\n",
    "\n",
    "# Also drop the original price and is_super_host columns, since now we have the dummies\n",
    "to_drop = ['price', 'host_is_superhost']\n",
    "air_bnb_listings = air_bnb_listings.drop(to_drop, axis=1)\n",
    "\n",
    "# Next we will drop columns which are not relevant to the analysis, like names, ids,\n",
    "# free text fields and image urls.\n",
    "to_drop = ['id', 'listing_url', 'scrape_id', 'name', 'summary', 'space', 'description', 'neighborhood_overview', \\\n",
    "          'notes', 'transit', 'access', 'interaction', 'house_rules', 'picture_url', \\\n",
    "          'host_id', 'host_url', 'host_name', 'host_since', 'host_location', 'host_about', 'host_thumbnail_url', \\\n",
    "          'host_picture_url', 'host_total_listings_count', 'street', 'state', 'zipcode', 'market', 'smart_location', \\\n",
    "          'country_code', 'country', 'latitude', 'longitude', 'calendar_updated', 'first_review', 'last_review', \\\n",
    "          'license', 'jurisdiction_names', 'calendar_last_scraped', 'last_scraped', 'host_neighbourhood', \\\n",
    "          'neighbourhood_cleansed', 'neighbourhood_group_cleansed', 'city']\n",
    "air_bnb_listings = air_bnb_listings.drop(to_drop, axis=1)"
   ]
  },
  {
   "cell_type": "code",
   "execution_count": 17,
   "metadata": {},
   "outputs": [
    {
     "data": {
      "text/plain": [
       "(22123, 46)"
      ]
     },
     "execution_count": 17,
     "metadata": {},
     "output_type": "execute_result"
    }
   ],
   "source": [
    "# Print the shape of the dataset after dropping the columns\n",
    "air_bnb_listings.shape"
   ]
  },
  {
   "cell_type": "code",
   "execution_count": 18,
   "metadata": {},
   "outputs": [
    {
     "data": {
      "text/plain": [
       "(6576, 46)"
      ]
     },
     "execution_count": 18,
     "metadata": {},
     "output_type": "execute_result"
    }
   ],
   "source": [
    "# Drop all rows with na values and print the shape of the dataset again\n",
    "air_bnb_listings_no_na = air_bnb_listings.dropna()\n",
    "air_bnb_listings_no_na.shape"
   ]
  },
  {
   "cell_type": "code",
   "execution_count": 19,
   "metadata": {},
   "outputs": [],
   "source": [
    "# Drop these columns because all the rows have the same value\n",
    "to_drop = ['is_business_travel_ready', 'experiences_offered', 'has_availability']\n",
    "air_bnb_listings_no_na = air_bnb_listings_no_na.drop(to_drop, axis=1)"
   ]
  },
  {
   "cell_type": "markdown",
   "metadata": {},
   "source": [
    "### Encoding <a class=\"anchor\" id=\"sixth-bullet\"></a>"
   ]
  },
  {
   "cell_type": "markdown",
   "metadata": {},
   "source": [
    "The remaining mixed type columns will be reengineered and the categorical columns will be encoded."
   ]
  },
  {
   "cell_type": "code",
   "execution_count": 20,
   "metadata": {},
   "outputs": [
    {
     "name": "stdout",
     "output_type": "stream",
     "text": [
      "Index(['host_response_time', 'host_response_rate', 'host_verifications',\n",
      "       'host_has_profile_pic', 'host_identity_verified', 'neighbourhood',\n",
      "       'is_location_exact', 'property_type', 'room_type', 'bed_type',\n",
      "       'amenities', 'security_deposit', 'cleaning_fee', 'extra_people',\n",
      "       'requires_license', 'instant_bookable', 'cancellation_policy',\n",
      "       'require_guest_profile_picture', 'require_guest_phone_verification'],\n",
      "      dtype='object')\n"
     ]
    }
   ],
   "source": [
    "# Figure out which are the categorical columns and the mixed type columns so that they can be handled appropriately\n",
    "cat_air_bnb_listings_no_na = air_bnb_listings_no_na.select_dtypes(include=['object'])\n",
    "print(cat_air_bnb_listings_no_na.columns)"
   ]
  },
  {
   "cell_type": "code",
   "execution_count": 21,
   "metadata": {},
   "outputs": [],
   "source": [
    "# Encode true/false columns\n",
    "columns_to_encode = ['host_has_profile_pic', 'host_identity_verified', 'is_location_exact', 'instant_bookable', \\\n",
    "                    'require_guest_profile_picture', 'require_guest_phone_verification', 'requires_license']\n",
    "\n",
    "for column_to_encode in columns_to_encode:\n",
    "    air_bnb_listings_no_na[column_to_encode] = air_bnb_listings_no_na[column_to_encode].apply(get_true_false_dummy)\n"
   ]
  },
  {
   "cell_type": "code",
   "execution_count": 22,
   "metadata": {},
   "outputs": [],
   "source": [
    "# Encode price columns\n",
    "columns_to_encode = ['security_deposit', 'cleaning_fee', 'extra_people' ]\n",
    "\n",
    "for column_to_encode in columns_to_encode:\n",
    "    air_bnb_listings_no_na[column_to_encode] = air_bnb_listings_no_na[column_to_encode].apply(parse_into_float)"
   ]
  },
  {
   "cell_type": "markdown",
   "metadata": {},
   "source": [
    "The Amenities column has incredibly dirty data because the same amenity can have many different names. Therefore, instead of trying to create dummy columns for each amenity, we will count how many amenities each listing has and encode it into a new column."
   ]
  },
  {
   "cell_type": "code",
   "execution_count": 23,
   "metadata": {},
   "outputs": [],
   "source": [
    "# Generate new column for the number of amenities per listing. Drop the old amenities column\n",
    "air_bnb_listings_no_na['amenities_count'] = air_bnb_listings_no_na['amenities'].apply(parse_lists_into_count)\n",
    "air_bnb_listings_no_na = air_bnb_listings_no_na.drop(['amenities'], axis = 1)"
   ]
  },
  {
   "cell_type": "code",
   "execution_count": 24,
   "metadata": {},
   "outputs": [
    {
     "name": "stdout",
     "output_type": "stream",
     "text": [
      "Shape of the dataframe before encoding host_verifications:\n",
      "(6576, 44)\n",
      "Shape of the dataframe after encoding host_verifications:\n",
      "(6576, 60)\n"
     ]
    }
   ],
   "source": [
    "# Generate a new column for each type of host verification using the MultiLabelBinarizer\n",
    "air_bnb_listings_no_na['host_verifications_enc'] = air_bnb_listings_no_na['host_verifications'].apply(parse_lists)\n",
    "\n",
    "mlb = MultiLabelBinarizer()\n",
    "\n",
    "print('Shape of the dataframe before encoding host_verifications:')\n",
    "print(air_bnb_listings_no_na.shape)\n",
    "\n",
    "air_bnb_listings_no_na = air_bnb_listings_no_na.join(pd.DataFrame(mlb.fit_transform(air_bnb_listings_no_na.pop('host_verifications_enc')),\n",
    "                          columns=mlb.classes_,\n",
    "                          index=air_bnb_listings_no_na.index).add_prefix('host_verification_'))\n",
    "\n",
    "air_bnb_listings_no_na = air_bnb_listings_no_na.drop(['host_verifications'], axis=1)\n",
    "\n",
    "print('Shape of the dataframe after encoding host_verifications:')\n",
    "print(air_bnb_listings_no_na.shape)"
   ]
  },
  {
   "cell_type": "markdown",
   "metadata": {},
   "source": [
    "Let's check what columns we have on the dataset now:"
   ]
  },
  {
   "cell_type": "code",
   "execution_count": 25,
   "metadata": {},
   "outputs": [
    {
     "data": {
      "text/plain": [
       "Index(['host_response_time', 'host_response_rate', 'host_listings_count',\n",
       "       'host_has_profile_pic', 'host_identity_verified', 'neighbourhood',\n",
       "       'is_location_exact', 'property_type', 'room_type', 'accommodates',\n",
       "       'bathrooms', 'bedrooms', 'beds', 'bed_type', 'security_deposit',\n",
       "       'cleaning_fee', 'guests_included', 'extra_people', 'minimum_nights',\n",
       "       'maximum_nights', 'availability_30', 'availability_60',\n",
       "       'availability_90', 'availability_365', 'number_of_reviews',\n",
       "       'review_scores_rating', 'review_scores_accuracy',\n",
       "       'review_scores_cleanliness', 'review_scores_checkin',\n",
       "       'review_scores_communication', 'review_scores_location',\n",
       "       'review_scores_value', 'requires_license', 'instant_bookable',\n",
       "       'cancellation_policy', 'require_guest_profile_picture',\n",
       "       'require_guest_phone_verification', 'calculated_host_listings_count',\n",
       "       'reviews_per_month', 'float_price', 'host_is_superhost_encoded',\n",
       "       'amenities_count', 'host_verification_', 'host_verification_email',\n",
       "       'host_verification_facebook', 'host_verification_google',\n",
       "       'host_verification_government_id', 'host_verification_identity_manual',\n",
       "       'host_verification_jumio', 'host_verification_kba',\n",
       "       'host_verification_manual_offline', 'host_verification_manual_online',\n",
       "       'host_verification_offline_government_id', 'host_verification_phone',\n",
       "       'host_verification_photographer', 'host_verification_reviews',\n",
       "       'host_verification_selfie', 'host_verification_sent_id',\n",
       "       'host_verification_work_email', 'host_verification_zhima_selfie'],\n",
       "      dtype='object')"
      ]
     },
     "execution_count": 25,
     "metadata": {},
     "output_type": "execute_result"
    }
   ],
   "source": [
    "air_bnb_listings_no_na.columns"
   ]
  },
  {
   "cell_type": "code",
   "execution_count": 26,
   "metadata": {},
   "outputs": [
    {
     "name": "stdout",
     "output_type": "stream",
     "text": [
      "Index(['host_response_time', 'host_response_rate', 'neighbourhood',\n",
      "       'property_type', 'room_type', 'bed_type', 'cancellation_policy'],\n",
      "      dtype='object')\n"
     ]
    }
   ],
   "source": [
    "# Are there any categorical columns left to handle?\n",
    "cat_air_bnb_listings_no_na = air_bnb_listings_no_na.select_dtypes(include=['object'])\n",
    "print(cat_air_bnb_listings_no_na.columns)"
   ]
  },
  {
   "cell_type": "code",
   "execution_count": 27,
   "metadata": {},
   "outputs": [
    {
     "data": {
      "text/plain": [
       "(6576, 60)"
      ]
     },
     "execution_count": 27,
     "metadata": {},
     "output_type": "execute_result"
    }
   ],
   "source": [
    "# Inspect the shape of the dataset before encoding\n",
    "air_bnb_listings_no_na.shape"
   ]
  },
  {
   "cell_type": "code",
   "execution_count": 28,
   "metadata": {},
   "outputs": [],
   "source": [
    "# Encode the remaining categorical columns\n",
    "air_bnb_listings_no_na = pd.get_dummies(columns = cat_air_bnb_listings_no_na.columns.values, data = air_bnb_listings_no_na)"
   ]
  },
  {
   "cell_type": "code",
   "execution_count": 29,
   "metadata": {},
   "outputs": [
    {
     "data": {
      "text/plain": [
       "(6576, 186)"
      ]
     },
     "execution_count": 29,
     "metadata": {},
     "output_type": "execute_result"
    }
   ],
   "source": [
    "# Inspect the shape of the dataset after encoding\n",
    "air_bnb_listings_no_na.shape"
   ]
  },
  {
   "cell_type": "code",
   "execution_count": 30,
   "metadata": {},
   "outputs": [
    {
     "name": "stdout",
     "output_type": "stream",
     "text": [
      "Index([], dtype='object')\n"
     ]
    }
   ],
   "source": [
    "# Are there any categorical columns left to handle?\n",
    "cat_air_bnb_listings_no_na = air_bnb_listings_no_na.select_dtypes(include=['object'])\n",
    "print(cat_air_bnb_listings_no_na.columns)"
   ]
  },
  {
   "cell_type": "markdown",
   "metadata": {},
   "source": [
    "### Scaling <a class=\"anchor\" id=\"seventh-bullet\"></a>"
   ]
  },
  {
   "cell_type": "markdown",
   "metadata": {},
   "source": [
    "Since there are no more categorical columns to handle, we will apply standard scaling to the data next."
   ]
  },
  {
   "cell_type": "code",
   "execution_count": 31,
   "metadata": {},
   "outputs": [],
   "source": [
    "# Apply Scaling\n",
    "scaler = StandardScaler(with_mean=True, with_std=True)\n",
    "air_bnb_listings_no_na[air_bnb_listings_no_na.columns] = scaler.fit_transform(air_bnb_listings_no_na[air_bnb_listings_no_na.columns])"
   ]
  },
  {
   "cell_type": "code",
   "execution_count": 32,
   "metadata": {},
   "outputs": [
    {
     "data": {
      "text/html": [
       "<div>\n",
       "<style scoped>\n",
       "    .dataframe tbody tr th:only-of-type {\n",
       "        vertical-align: middle;\n",
       "    }\n",
       "\n",
       "    .dataframe tbody tr th {\n",
       "        vertical-align: top;\n",
       "    }\n",
       "\n",
       "    .dataframe thead th {\n",
       "        text-align: right;\n",
       "    }\n",
       "</style>\n",
       "<table border=\"1\" class=\"dataframe\">\n",
       "  <thead>\n",
       "    <tr style=\"text-align: right;\">\n",
       "      <th></th>\n",
       "      <th>host_listings_count</th>\n",
       "      <th>host_has_profile_pic</th>\n",
       "      <th>host_identity_verified</th>\n",
       "      <th>is_location_exact</th>\n",
       "      <th>accommodates</th>\n",
       "      <th>bathrooms</th>\n",
       "      <th>bedrooms</th>\n",
       "      <th>beds</th>\n",
       "      <th>security_deposit</th>\n",
       "      <th>cleaning_fee</th>\n",
       "      <th>...</th>\n",
       "      <th>bed_type_Airbed</th>\n",
       "      <th>bed_type_Couch</th>\n",
       "      <th>bed_type_Futon</th>\n",
       "      <th>bed_type_Pull-out Sofa</th>\n",
       "      <th>bed_type_Real Bed</th>\n",
       "      <th>cancellation_policy_flexible</th>\n",
       "      <th>cancellation_policy_moderate</th>\n",
       "      <th>cancellation_policy_strict_14_with_grace_period</th>\n",
       "      <th>cancellation_policy_super_strict_30</th>\n",
       "      <th>cancellation_policy_super_strict_60</th>\n",
       "    </tr>\n",
       "  </thead>\n",
       "  <tbody>\n",
       "    <tr>\n",
       "      <th>1</th>\n",
       "      <td>-0.445458</td>\n",
       "      <td>0.027585</td>\n",
       "      <td>1.384264</td>\n",
       "      <td>0.788988</td>\n",
       "      <td>-0.504726</td>\n",
       "      <td>-0.437708</td>\n",
       "      <td>-0.577925</td>\n",
       "      <td>-0.25463</td>\n",
       "      <td>0.106185</td>\n",
       "      <td>-0.182543</td>\n",
       "      <td>...</td>\n",
       "      <td>-0.012333</td>\n",
       "      <td>-0.024671</td>\n",
       "      <td>-0.03702</td>\n",
       "      <td>-0.080174</td>\n",
       "      <td>0.092677</td>\n",
       "      <td>-0.358524</td>\n",
       "      <td>1.286816</td>\n",
       "      <td>-1.009473</td>\n",
       "      <td>-0.063004</td>\n",
       "      <td>-0.03022</td>\n",
       "    </tr>\n",
       "    <tr>\n",
       "      <th>8</th>\n",
       "      <td>-0.394965</td>\n",
       "      <td>0.027585</td>\n",
       "      <td>1.384264</td>\n",
       "      <td>-1.267447</td>\n",
       "      <td>-0.504726</td>\n",
       "      <td>-0.437708</td>\n",
       "      <td>-0.577925</td>\n",
       "      <td>-0.25463</td>\n",
       "      <td>1.673633</td>\n",
       "      <td>0.072742</td>\n",
       "      <td>...</td>\n",
       "      <td>-0.012333</td>\n",
       "      <td>-0.024671</td>\n",
       "      <td>-0.03702</td>\n",
       "      <td>-0.080174</td>\n",
       "      <td>0.092677</td>\n",
       "      <td>-0.358524</td>\n",
       "      <td>-0.777112</td>\n",
       "      <td>0.990616</td>\n",
       "      <td>-0.063004</td>\n",
       "      <td>-0.03022</td>\n",
       "    </tr>\n",
       "  </tbody>\n",
       "</table>\n",
       "<p>2 rows × 186 columns</p>\n",
       "</div>"
      ],
      "text/plain": [
       "   host_listings_count  host_has_profile_pic  host_identity_verified  \\\n",
       "1            -0.445458              0.027585                1.384264   \n",
       "8            -0.394965              0.027585                1.384264   \n",
       "\n",
       "   is_location_exact  accommodates  bathrooms  bedrooms     beds  \\\n",
       "1           0.788988     -0.504726  -0.437708 -0.577925 -0.25463   \n",
       "8          -1.267447     -0.504726  -0.437708 -0.577925 -0.25463   \n",
       "\n",
       "   security_deposit  cleaning_fee                 ...                   \\\n",
       "1          0.106185     -0.182543                 ...                    \n",
       "8          1.673633      0.072742                 ...                    \n",
       "\n",
       "   bed_type_Airbed  bed_type_Couch  bed_type_Futon  bed_type_Pull-out Sofa  \\\n",
       "1        -0.012333       -0.024671        -0.03702               -0.080174   \n",
       "8        -0.012333       -0.024671        -0.03702               -0.080174   \n",
       "\n",
       "   bed_type_Real Bed  cancellation_policy_flexible  \\\n",
       "1           0.092677                     -0.358524   \n",
       "8           0.092677                     -0.358524   \n",
       "\n",
       "   cancellation_policy_moderate  \\\n",
       "1                      1.286816   \n",
       "8                     -0.777112   \n",
       "\n",
       "   cancellation_policy_strict_14_with_grace_period  \\\n",
       "1                                        -1.009473   \n",
       "8                                         0.990616   \n",
       "\n",
       "   cancellation_policy_super_strict_30  cancellation_policy_super_strict_60  \n",
       "1                            -0.063004                             -0.03022  \n",
       "8                            -0.063004                             -0.03022  \n",
       "\n",
       "[2 rows x 186 columns]"
      ]
     },
     "execution_count": 32,
     "metadata": {},
     "output_type": "execute_result"
    }
   ],
   "source": [
    "# Check if the data looks good\n",
    "air_bnb_listings_no_na.head(2)"
   ]
  },
  {
   "cell_type": "code",
   "execution_count": 33,
   "metadata": {},
   "outputs": [
    {
     "data": {
      "text/plain": [
       "Index(['host_listings_count', 'host_has_profile_pic', 'host_identity_verified',\n",
       "       'is_location_exact', 'accommodates', 'bathrooms', 'bedrooms', 'beds',\n",
       "       'security_deposit', 'cleaning_fee',\n",
       "       ...\n",
       "       'bed_type_Airbed', 'bed_type_Couch', 'bed_type_Futon',\n",
       "       'bed_type_Pull-out Sofa', 'bed_type_Real Bed',\n",
       "       'cancellation_policy_flexible', 'cancellation_policy_moderate',\n",
       "       'cancellation_policy_strict_14_with_grace_period',\n",
       "       'cancellation_policy_super_strict_30',\n",
       "       'cancellation_policy_super_strict_60'],\n",
       "      dtype='object', length=186)"
      ]
     },
     "execution_count": 33,
     "metadata": {},
     "output_type": "execute_result"
    }
   ],
   "source": [
    "air_bnb_listings_no_na.columns"
   ]
  },
  {
   "cell_type": "code",
   "execution_count": 34,
   "metadata": {},
   "outputs": [],
   "source": [
    "y_true = air_bnb_listings_no_na['review_scores_rating']\n",
    "features = air_bnb_listings_no_na.drop(['review_scores_rating', 'review_scores_value', \\\n",
    "                                        'review_scores_accuracy', 'review_scores_cleanliness', \\\n",
    "                                        'review_scores_communication', 'review_scores_checkin', \\\n",
    "                                        'review_scores_location'], axis = 1)"
   ]
  },
  {
   "cell_type": "code",
   "execution_count": 35,
   "metadata": {},
   "outputs": [
    {
     "name": "stdout",
     "output_type": "stream",
     "text": [
      "Training set has 5918 samples.\n",
      "Testing set has 658 samples.\n"
     ]
    }
   ],
   "source": [
    "# Split the 'features' and 'income' data into training and testing sets\n",
    "X_train, X_test, y_train, y_test = train_test_split(features, \n",
    "                                                    y_true, \n",
    "                                                    test_size = 0.1, \n",
    "                                                    random_state = 5)\n",
    "# Show the results of the split\n",
    "print(\"Training set has {} samples.\".format(X_train.shape[0]))\n",
    "print(\"Testing set has {} samples.\".format(X_test.shape[0]))"
   ]
  },
  {
   "cell_type": "code",
   "execution_count": 36,
   "metadata": {},
   "outputs": [
    {
     "name": "stdout",
     "output_type": "stream",
     "text": [
      "(Unoptimized) r_2 score is: 0.08512874648353741\n",
      "(Optimized) r_2 score is: 0.21649940241638366\n"
     ]
    }
   ],
   "source": [
    "clf = RandomForestRegressor(random_state=5)\n",
    "\n",
    "parameters = { 'criterion' : ['mse', 'mae'], \\\n",
    "               'max_depth': [5, 10, 25], \\\n",
    "               #'max_features': [2, 3], \\\n",
    "               #'min_samples_leaf': [3, 4, 5], \\\n",
    "               #'min_samples_split': [8, 10, 12], \\\n",
    "               'n_estimators': [100, 200, 500, 1000]}\n",
    "\n",
    "scorer = make_scorer(r2_score)\n",
    "\n",
    "grid_obj = GridSearchCV(clf, param_grid = parameters, scoring=scorer, n_jobs=3)\n",
    "\n",
    "grid_fit = grid_obj.fit(X_train, y_train)\n",
    "\n",
    "best_clf = grid_fit.best_estimator_\n",
    "clf = clf.fit(X_train, y_train)\n",
    "\n",
    "y_pred = clf.predict(X_test)\n",
    "best_predictions = best_clf.predict(X_test)\n",
    "print(f'(Unoptimized) r_2 score is: {r2_score(y_test, y_pred)}')\n",
    "print(f'(Optimized) r_2 score is: {r2_score(y_test, best_predictions)}')\n"
   ]
  },
  {
   "cell_type": "code",
   "execution_count": 37,
   "metadata": {},
   "outputs": [],
   "source": [
    "def plot_learning_curve(estimator, title, X, y, ylim=None, cv=None,\n",
    "                        n_jobs=None, train_sizes=np.linspace(.1, 1.0, 10)):\n",
    "    \"\"\"\n",
    "    Generate a simple plot of the test and training learning curve.\n",
    "\n",
    "    Parameters\n",
    "    ----------\n",
    "    estimator : object type that implements the \"fit\" and \"predict\" methods\n",
    "        An object of that type which is cloned for each validation.\n",
    "\n",
    "    title : string\n",
    "        Title for the chart.\n",
    "\n",
    "    X : array-like, shape (n_samples, n_features)\n",
    "        Training vector, where n_samples is the number of samples and\n",
    "        n_features is the number of features.\n",
    "\n",
    "    y : array-like, shape (n_samples) or (n_samples, n_features), optional\n",
    "        Target relative to X for classification or regression;\n",
    "        None for unsupervised learning.\n",
    "\n",
    "    ylim : tuple, shape (ymin, ymax), optional\n",
    "        Defines minimum and maximum yvalues plotted.\n",
    "\n",
    "    cv : int, cross-validation generator or an iterable, optional\n",
    "        Determines the cross-validation splitting strategy.\n",
    "        Possible inputs for cv are:\n",
    "          - None, to use the default 3-fold cross-validation,\n",
    "          - integer, to specify the number of folds.\n",
    "          - An object to be used as a cross-validation generator.\n",
    "          - An iterable yielding train/test splits.\n",
    "\n",
    "        For integer/None inputs, if ``y`` is binary or multiclass,\n",
    "        :class:`StratifiedKFold` used. If the estimator is not a classifier\n",
    "        or if ``y`` is neither binary nor multiclass, :class:`KFold` is used.\n",
    "\n",
    "        Refer :ref:`User Guide <cross_validation>` for the various\n",
    "        cross-validators that can be used here.\n",
    "\n",
    "    n_jobs : int or None, optional (default=None)\n",
    "        Number of jobs to run in parallel.\n",
    "        ``None`` means 1 unless in a :obj:`joblib.parallel_backend` context.\n",
    "        ``-1`` means using all processors. See :term:`Glossary <n_jobs>`\n",
    "        for more details.\n",
    "\n",
    "    train_sizes : array-like, shape (n_ticks,), dtype float or int\n",
    "        Relative or absolute numbers of training examples that will be used to\n",
    "        generate the learning curve. If the dtype is float, it is regarded as a\n",
    "        fraction of the maximum size of the training set (that is determined\n",
    "        by the selected validation method), i.e. it has to be within (0, 1].\n",
    "        Otherwise it is interpreted as absolute sizes of the training sets.\n",
    "        Note that for classification the number of samples usually have to\n",
    "        be big enough to contain at least one sample from each class.\n",
    "        (default: np.linspace(0.1, 1.0, 5))\n",
    "    \"\"\"\n",
    "    plt.figure()\n",
    "    plt.title(title)\n",
    "    if ylim is not None:\n",
    "        plt.ylim(*ylim)\n",
    "    plt.xlabel(\"Training examples\")\n",
    "    plt.ylabel(\"Score\")\n",
    "    train_sizes, train_scores, test_scores = learning_curve(\n",
    "        estimator, X, y, cv=cv, n_jobs=n_jobs, train_sizes=train_sizes)\n",
    "    train_scores_mean = np.mean(train_scores, axis=1)\n",
    "    train_scores_std = np.std(train_scores, axis=1)\n",
    "    test_scores_mean = np.mean(test_scores, axis=1)\n",
    "    test_scores_std = np.std(test_scores, axis=1)\n",
    "    plt.grid()\n",
    "\n",
    "    plt.fill_between(train_sizes, train_scores_mean - train_scores_std,\n",
    "                     train_scores_mean + train_scores_std, alpha=0.1,\n",
    "                     color=\"r\")\n",
    "    plt.fill_between(train_sizes, test_scores_mean - test_scores_std,\n",
    "                     test_scores_mean + test_scores_std, alpha=0.1, color=\"g\")\n",
    "    plt.plot(train_sizes, train_scores_mean, 'o-', color=\"r\",\n",
    "             label=\"Training score\")\n",
    "    plt.plot(train_sizes, test_scores_mean, 'o-', color=\"g\",\n",
    "             label=\"Cross-validation score\")\n",
    "    plt.legend(loc=\"best\")\n",
    "    return plt\n"
   ]
  },
  {
   "cell_type": "code",
   "execution_count": 38,
   "metadata": {},
   "outputs": [
    {
     "data": {
      "text/plain": [
       "<module 'matplotlib.pyplot' from 'C:\\\\Users\\\\pc-w\\\\Anaconda3\\\\lib\\\\site-packages\\\\matplotlib\\\\pyplot.py'>"
      ]
     },
     "execution_count": 38,
     "metadata": {},
     "output_type": "execute_result"
    },
    {
     "data": {
      "image/png": "[encoded data removed]",
      "text/plain": [
       "<Figure size 432x288 with 1 Axes>"
      ]
     },
     "metadata": {},
     "output_type": "display_data"
    }
   ],
   "source": [
    "title = \"Learning Curves\"\n",
    "# Cross validation with 100 iterations to get smoother mean test and train\n",
    "# score curves, each time with 20% data randomly selected as a validation set.\n",
    "cv = ShuffleSplit(n_splits=100, test_size=0.2, random_state=0)\n",
    "\n",
    "estimator = best_clf\n",
    "plot_learning_curve(estimator, title, features, y_true, ylim=(0.0, 1.01), cv=cv, n_jobs=4)"
   ]
  },
  {
   "cell_type": "code",
   "execution_count": null,
   "metadata": {},
   "outputs": [],
   "source": [
    "score, permutation_scores, pvalue = permutation_test_score(\n",
    "    best_clf, features, y_true, scoring=\"r2\", cv=cv, n_permutations=100, n_jobs=3)\n",
    "\n",
    "print(\"Classification score %s (pvalue : %s)\" % (score, pvalue))\n",
    "\n",
    "# #############################################################################\n",
    "# View histogram of permutation scores\n",
    "plt.hist(permutation_scores, 20, label='Permutation scores',\n",
    "         edgecolor='black')\n",
    "ylim = plt.ylim()\n",
    "# BUG: vlines(..., linestyle='--') fails on older versions of matplotlib\n",
    "# plt.vlines(score, ylim[0], ylim[1], linestyle='--',\n",
    "#          color='g', linewidth=3, label='Classification Score'\n",
    "#          ' (pvalue %s)' % pvalue)\n",
    "# plt.vlines(1.0 / n_classes, ylim[0], ylim[1], linestyle='--',\n",
    "#          color='k', linewidth=3, label='Luck')\n",
    "plt.plot(2 * [score], ylim, '--g', linewidth=3,\n",
    "         label='Classification Score'\n",
    "         ' (pvalue %s)' % pvalue)\n",
    "plt.plot(2 * [1. / n_classes], ylim, '--k', linewidth=3, label='Luck')\n",
    "\n",
    "plt.ylim(ylim)\n",
    "plt.legend()\n",
    "plt.xlabel('Score')\n",
    "plt.show()"
   ]
  },
  {
   "cell_type": "code",
   "execution_count": 40,
   "metadata": {},
   "outputs": [
    {
     "name": "stdout",
     "output_type": "stream",
     "text": [
      "[ 6 10  7 12  4 13 11  8 14 15  9 23  0 16 17 25 27 24 18 26]\n"
     ]
    },
    {
     "data": {
      "image/png": "[encoded data removed]",
      "text/plain": [
       "<Figure size 432x288 with 1 Axes>"
      ]
     },
     "metadata": {},
     "output_type": "display_data"
    }
   ],
   "source": [
    "features_for_graph = features.columns[:features.shape[1]]\n",
    "importances = grid_fit.best_estimator_.feature_importances_\n",
    "indices = np.argsort(importances)\n",
    "\n",
    "plt.title('Feature Importances')\n",
    "plt.barh(range(len(indices[-20:])), importances[indices[-20:]], color='b', align='center')\n",
    "plt.yticks(range(len(indices[-20:])), features_for_graph[indices[-20:]])\n",
    "plt.xlabel('Relative Importance');"
   ]
  }
 ],
 "metadata": {
  "kernelspec": {
   "display_name": "Python 3",
   "language": "python",
   "name": "python3"
  },
  "language_info": {
   "codemirror_mode": {
    "name": "ipython",
    "version": 3
   },
   "file_extension": ".py",
   "mimetype": "text/x-python",
   "name": "python",
   "nbconvert_exporter": "python",
   "pygments_lexer": "ipython3",
   "version": "3.6.5"
  }
 },
 "nbformat": 4,
 "nbformat_minor": 2
}
